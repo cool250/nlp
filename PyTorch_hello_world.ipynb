{
  "nbformat": 4,
  "nbformat_minor": 0,
  "metadata": {
    "colab": {
      "provenance": [],
      "authorship_tag": "ABX9TyPDW49rgibADyK+3NimTRl3",
      "include_colab_link": true
    },
    "kernelspec": {
      "name": "python3",
      "display_name": "Python 3"
    },
    "language_info": {
      "name": "python"
    }
  },
  "cells": [
    {
      "cell_type": "markdown",
      "metadata": {
        "id": "view-in-github",
        "colab_type": "text"
      },
      "source": [
        "<a href=\"https://colab.research.google.com/github/cool250/nlp/blob/main/PyTorch_hello_world.ipynb\" target=\"_parent\"><img src=\"https://colab.research.google.com/assets/colab-badge.svg\" alt=\"Open In Colab\"/></a>"
      ]
    },
    {
      "cell_type": "code",
      "execution_count": 2,
      "metadata": {
        "id": "_2kMgpjU7lR1"
      },
      "outputs": [],
      "source": [
        "import torch\n",
        "import torch.nn as nn\n",
        "\n",
        "import numpy as np\n",
        "\n",
        "from sklearn.datasets import make_blobs\n",
        "from matplotlib import pyplot"
      ]
    },
    {
      "cell_type": "code",
      "source": [
        "samples = 5000\n",
        "train_split = int(samples*0.8)\n",
        "\n",
        "X,y = make_blobs(n_samples=samples, centers=2, n_features=64, cluster_std=10, random_state=2020)\n",
        "y = y.reshape(-1,1)\n",
        "\n",
        "X,y = torch.from_numpy(X), torch.from_numpy(y)\n",
        "X,y = X.float(), y.float()\n",
        "\n",
        "X_train, X_test = X[:train_split], X[train_split:]\n",
        "y_train, y_test = y[:train_split], y[train_split:]\n",
        "\n",
        "#Print shapes of each dataset\n",
        "print(\"X_train.shape:\",X_train.shape)\n",
        "print(\"X_test.shape:\",X_test.shape)\n",
        "print(\"y_train.shape:\",y_train.shape)\n",
        "print(\"y_test.shape:\",y_test.shape)\n",
        "print(\"X.dtype\",X.dtype)\n",
        "print(\"y.dtype\",y.dtype)"
      ],
      "metadata": {
        "colab": {
          "base_uri": "https://localhost:8080/"
        },
        "id": "R7gKb52o7-of",
        "outputId": "4e0196c3-8028-4809-a0ba-a8c0d87d0cad"
      },
      "execution_count": 9,
      "outputs": [
        {
          "output_type": "stream",
          "name": "stdout",
          "text": [
            "X_train.shape: torch.Size([4000, 64])\n",
            "x_test.shape: torch.Size([1000, 64])\n",
            "Y_train.shape: torch.Size([4000, 1])\n",
            "y_test.shape: torch.Size([1000, 1])\n",
            "X.dtype torch.float32\n",
            "y.dtype torch.float32\n"
          ]
        }
      ]
    },
    {
      "cell_type": "code",
      "source": [
        "class NeuralNetwork(nn.Module):\n",
        "\n",
        "  def __init__(self):\n",
        "    super().__init__()\n",
        "    self.fc1 = nn.Linear(64, 256)\n",
        "    self.relu1 = nn.ReLU()\n",
        "    self.fc2 = nn.Linear(256,1024)\n",
        "    self.relu2 = nn.ReLU()\n",
        "    self.fc3 = nn.Linear(1024,1)\n",
        "    self.final = nn.Sigmoid()\n",
        "\n",
        "  def forward(self,x):\n",
        "    op = self.fc1(x)\n",
        "    op = self.relu1(op)\n",
        "    op = self.fc2(op)\n",
        "    op = self.relu2(op)\n",
        "    op = self.fc3(op)\n",
        "    y = self.final(op)\n",
        "    return y"
      ],
      "metadata": {
        "id": "8c_zXKoe-wKy"
      },
      "execution_count": 16,
      "outputs": []
    },
    {
      "cell_type": "code",
      "source": [
        "def train_network(model, optimizer, loss_function, num_epochs, batch_size, X_train, y_train):\n",
        "  model.train()\n",
        "  loss_across_epochs = []\n",
        "  for epoch in range(num_epochs):\n",
        "    train_loss = 0.0\n",
        "\n",
        "    for i in range(0, X_train.shape[0], batch_size):\n",
        "      input_data = X_train[i:min(X_train.shape[0], i+batch_size)]\n",
        "      labels = y_train[i:min(X_train.shape[0], i+batch_size)]\n",
        "\n",
        "      optimizer.zero_grad()\n",
        "\n",
        "      output = model(input_data)\n",
        "\n",
        "      loss = loss_function(output, labels)\n",
        "\n",
        "      loss.backward()\n",
        "\n",
        "      optimizer.step()\n",
        "      train_loss += loss.item() * batch_size\n",
        "\n",
        "    print(\"Epoch: {} - Loss {:4f}\".format(epoch+1, train_loss))\n",
        "    loss_across_epochs.extend([train_loss])\n"
      ],
      "metadata": {
        "id": "dZpshQxvATWs"
      },
      "execution_count": 26,
      "outputs": []
    },
    {
      "cell_type": "code",
      "source": [
        "# Create an object of Neural Network class\n",
        "model = NeuralNetwork()\n",
        "\n",
        "#Loss Function\n",
        "loss_function = nn.BCELoss() # Binary Cross Entropy\n",
        "\n",
        "# optimizer\n",
        "optimizer = torch.optim.Adam(model.parameters(), lr = 0.001)\n",
        "\n",
        "# Define epochs and batch size\n",
        "num_epochs = 10\n",
        "batch_size = 16\n",
        "\n",
        "loss = train_network(model, optimizer, loss_function, num_epochs, batch_size, X_train, y_train)\n",
        "\n",
        "print(\"Loss - {}\".format(loss))"
      ],
      "metadata": {
        "colab": {
          "base_uri": "https://localhost:8080/"
        },
        "id": "mFQjjlrsDAoH",
        "outputId": "cd8350d9-104b-4bb1-90a3-ee20d2240339"
      },
      "execution_count": 27,
      "outputs": [
        {
          "output_type": "stream",
          "name": "stdout",
          "text": [
            "Epoch: 1 - Loss 129.714970\n",
            "Epoch: 2 - Loss 23.325585\n",
            "Epoch: 3 - Loss 1.234440\n",
            "Epoch: 4 - Loss 9.276546\n",
            "Epoch: 5 - Loss 0.335508\n",
            "Epoch: 6 - Loss 0.097684\n",
            "Epoch: 7 - Loss 0.001499\n",
            "Epoch: 8 - Loss 0.001414\n",
            "Epoch: 9 - Loss 0.001330\n",
            "Epoch: 10 - Loss 0.001248\n",
            "Loss - None\n"
          ]
        }
      ]
    }
  ]
}