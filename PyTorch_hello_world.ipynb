{
  "nbformat": 4,
  "nbformat_minor": 0,
  "metadata": {
    "colab": {
      "provenance": [],
      "authorship_tag": "ABX9TyNhPUwAGDYH1HrHO3Q02Io2",
      "include_colab_link": true
    },
    "kernelspec": {
      "name": "python3",
      "display_name": "Python 3"
    },
    "language_info": {
      "name": "python"
    }
  },
  "cells": [
    {
      "cell_type": "markdown",
      "metadata": {
        "id": "view-in-github",
        "colab_type": "text"
      },
      "source": [
        "<a href=\"https://colab.research.google.com/github/cool250/nlp/blob/main/PyTorch_hello_world.ipynb\" target=\"_parent\"><img src=\"https://colab.research.google.com/assets/colab-badge.svg\" alt=\"Open In Colab\"/></a>"
      ]
    },
    {
      "cell_type": "code",
      "execution_count": null,
      "metadata": {
        "id": "_2kMgpjU7lR1"
      },
      "outputs": [],
      "source": [
        "import torch\n",
        "import torch.nn as nn\n",
        "import torch.optim as optim\n",
        "\n",
        "import numpy as np\n",
        "\n",
        "from sklearn.datasets import make_blobs\n",
        "from matplotlib import pyplot"
      ]
    },
    {
      "cell_type": "code",
      "source": [
        "samples = 5000\n",
        "train_split = int(samples*0.8)\n",
        "\n",
        "X,y = make_blobs(n_samples=samples, centers=2, n_features=64, cluster_std=10, random_state=2020)\n",
        "y = y.reshape(-1,1)\n",
        "\n",
        "X,y = torch.from_numpy(X), torch.from_numpy(y)\n",
        "X,y = X.float(), y.float()\n",
        "\n",
        "X_train, X_test = X[:train_split], X[train_split:]\n",
        "y_train, y_test = y[:train_split], y[train_split:]\n",
        "\n",
        "#Print shapes of each dataset\n",
        "print(\"X_train.shape:\",X_train.shape)\n",
        "print(\"X_test.shape:\",X_test.shape)\n",
        "print(\"y_train.shape:\",y_train.shape)\n",
        "print(\"y_test.shape:\",y_test.shape)\n",
        "print(\"X.dtype\",X.dtype)\n",
        "print(\"y.dtype\",y.dtype)"
      ],
      "metadata": {
        "id": "R7gKb52o7-of"
      },
      "execution_count": null,
      "outputs": []
    },
    {
      "cell_type": "code",
      "source": [
        "class NeuralNetwork(nn.Module):\n",
        "\n",
        "  def __init__(self):\n",
        "    super().__init__()\n",
        "    self.fc1 = nn.Linear(64, 256)\n",
        "    self.relu1 = nn.ReLU()\n",
        "    self.fc2 = nn.Linear(256,1024)\n",
        "    self.relu2 = nn.ReLU()\n",
        "    self.fc3 = nn.Linear(1024,1)\n",
        "    self.final = nn.Sigmoid()\n",
        "\n",
        "  def forward(self,x):\n",
        "    op = self.fc1(x)\n",
        "    op = self.relu1(op)\n",
        "    op = self.fc2(op)\n",
        "    op = self.relu2(op)\n",
        "    op = self.fc3(op)\n",
        "    y = self.final(op)\n",
        "    return y"
      ],
      "metadata": {
        "id": "8c_zXKoe-wKy"
      },
      "execution_count": null,
      "outputs": []
    },
    {
      "cell_type": "code",
      "source": [
        "def train_network(model, optimizer, loss_function, num_epochs, batch_size, X_train, y_train):\n",
        "  model.train()\n",
        "  loss_across_epochs = []\n",
        "  for epoch in range(num_epochs):\n",
        "    epoch_loss = 0.0\n",
        "\n",
        "    for i in range(0, X_train.shape[0], batch_size):\n",
        "      input_data = X_train[i:min(X_train.shape[0], i+batch_size)]\n",
        "      labels = y_train[i:min(X_train.shape[0], i+batch_size)]\n",
        "\n",
        "      optimizer.zero_grad()\n",
        "\n",
        "      output = model(input_data)\n",
        "\n",
        "      loss = loss_function(output, labels)\n",
        "\n",
        "      loss.backward()\n",
        "\n",
        "      optimizer.step()\n",
        "      epoch_loss += loss.item()\n",
        "\n",
        "    print(\"Epoch: {} - Loss {:4f}\".format(epoch+1, epoch_loss))\n",
        "    loss_across_epochs.extend([epoch_loss])\n",
        "\n",
        "  return loss_across_epochs\n"
      ],
      "metadata": {
        "id": "dZpshQxvATWs"
      },
      "execution_count": null,
      "outputs": []
    },
    {
      "cell_type": "code",
      "source": [
        "device = torch.device(\"cuda:0\" if torch.cuda.is_available() else \"cpu\")\n",
        "print(device)\n",
        "\n",
        "# Create an object of Neural Network class\n",
        "model = NeuralNetwork()\n",
        "model.to(device)\n",
        "\n",
        "#Loss Function\n",
        "loss_function = nn.BCELoss() # Binary Cross Entropy\n",
        "\n",
        "# Define epochs, learning rate, and batch size\n",
        "num_epochs = 10\n",
        "batch_size = 16\n",
        "learning_rate = 0.0001\n",
        "\n",
        "# optimizer\n",
        "optimizer = optim.Adam(model.parameters(), lr = learning_rate)\n",
        "\n",
        "loss = train_network(model, optimizer, loss_function, num_epochs, batch_size, X_train, y_train)\n",
        "\n",
        "print(\"Loss - {}\".format(loss))"
      ],
      "metadata": {
        "id": "mFQjjlrsDAoH"
      },
      "execution_count": null,
      "outputs": []
    },
    {
      "cell_type": "code",
      "source": [
        "def test(model, loss_function, X_test, y_test):\n",
        "  y_test_pred = model(X_test)\n",
        "  a = np.where(y_test_pred > 0.5,1,0)\n",
        "  return a"
      ],
      "metadata": {
        "id": "ClaLy1Wdijy3"
      },
      "execution_count": null,
      "outputs": []
    }
  ]
}