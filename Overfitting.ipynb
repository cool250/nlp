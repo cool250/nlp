{
  "nbformat": 4,
  "nbformat_minor": 0,
  "metadata": {
    "colab": {
      "provenance": [],
      "authorship_tag": "ABX9TyO5r+lZeociIln1Z3Y2a0pZ",
      "include_colab_link": true
    },
    "kernelspec": {
      "name": "python3",
      "display_name": "Python 3"
    },
    "language_info": {
      "name": "python"
    }
  },
  "cells": [
    {
      "cell_type": "markdown",
      "metadata": {
        "id": "view-in-github",
        "colab_type": "text"
      },
      "source": [
        "<a href=\"https://colab.research.google.com/github/cool250/nlp/blob/main/Overfitting.ipynb\" target=\"_parent\"><img src=\"https://colab.research.google.com/assets/colab-badge.svg\" alt=\"Open In Colab\"/></a>"
      ]
    },
    {
      "cell_type": "code",
      "execution_count": null,
      "metadata": {
        "id": "t7TjTIwPfs5y"
      },
      "outputs": [],
      "source": [
        "#Import required libraries\n",
        "import torch.nn as nn\n",
        "import torch as tch\n",
        "import numpy as np, pandas as pd\n",
        "from sklearn.metrics import confusion_matrix, accuracy_score\n",
        "from sklearn.metrics import precision_score, recall_score,roc_curve, auc, roc_auc_score\n",
        "from sklearn.model_selection import train_test_split\n",
        "from sklearn.utils import shuffle\n",
        "import matplotlib.pyplot as plt"
      ]
    },
    {
      "cell_type": "code",
      "source": [
        "#Load data into memory using pandas\n",
        "# Bank Telemarketing dataset hosted at https://www.kaggle.com/janiobachmann/bank-marketing-dataset.\n",
        "df = pd.read_csv(\"/content/data/bank.csv\")\n",
        "print(\"DF Shape:\",df.shape)\n",
        "df.head()"
      ],
      "metadata": {
        "id": "q7dn8IuqgH8k"
      },
      "execution_count": null,
      "outputs": []
    },
    {
      "cell_type": "code",
      "source": [
        "print(\"Distribution of Target Values in Dataset -\")\n",
        "df.deposit.value_counts()"
      ],
      "metadata": {
        "id": "hunRIUXDhs71"
      },
      "execution_count": null,
      "outputs": []
    },
    {
      "cell_type": "code",
      "source": [
        "df.isna().sum()"
      ],
      "metadata": {
        "id": "JbX7fL9Eh5Q9"
      },
      "execution_count": null,
      "outputs": []
    },
    {
      "cell_type": "code",
      "source": [
        "df.dtypes.value_counts()"
      ],
      "metadata": {
        "id": "jxWhD4zah8X5"
      },
      "execution_count": null,
      "outputs": []
    },
    {
      "cell_type": "code",
      "source": [
        "#Extract categorical columns from dataset\n",
        "categorical_columns = df.select_dtypes(include=\"object\").columns\n",
        "print(\"Categorical cols:\",list(categorical_columns))\n",
        "\n",
        "#For each categorical column if values in (Yes/No) convert into a 1/0 Flag\n",
        "for col in categorical_columns:\n",
        "    if df[col].nunique() == 2:\n",
        "        df[col] = np.where(df[col]==\"yes\",1,0)\n",
        "\n",
        "df.head()"
      ],
      "metadata": {
        "id": "FD-WRq_tiHDI"
      },
      "execution_count": null,
      "outputs": []
    },
    {
      "cell_type": "code",
      "source": [
        "#For the remaining cateogrical variables;\n",
        "#create one-hot encoded version of the dataset\n",
        "new_df = pd.get_dummies(df)\n",
        "\n",
        "#Define target and predictors for the model\n",
        "target = \"deposit\"\n",
        "predictors = set(new_df.columns) - set([target])\n",
        "print(\"new_df.shape:\",new_df.shape)\n",
        "new_df[predictors].head()"
      ],
      "metadata": {
        "id": "zwd6-REcjZGk"
      },
      "execution_count": null,
      "outputs": []
    },
    {
      "cell_type": "code",
      "source": [
        "#Convert all datatypes within pandas dataframe to Float32\n",
        "#(Compatibility with PyTorch tensors)\n",
        "new_df = new_df.astype(np.float32)\n",
        "\n",
        "# Split dataset into Train/Test [80:20]\n",
        "X_train,x_test, Y_train,y_test = train_test_split(new_df[predictors],new_df[target],test_size= 0.2)\n",
        "\n",
        "#Convert Pandas dataframe, first to numpy and then to Torch\n",
        "X_train = tch.from_numpy(X_train.values)\n",
        "x_test  = tch.from_numpy(x_test.values)\n",
        "Y_train = tch.from_numpy(Y_train.values).reshape(-1,1)\n",
        "y_test  = tch.from_numpy(y_test.values).reshape(-1,1)\n",
        "\n",
        "#Print the dataset size to verify\n",
        "print(\"X_train.shape:\",X_train.shape)\n",
        "print(\"x_test.shape:\",x_test.shape)\n",
        "print(\"Y_train.shape:\",Y_train.shape)\n",
        "print(\"y_test.shape:\",y_test.shape)"
      ],
      "metadata": {
        "id": "GmtrvbRijY9j"
      },
      "execution_count": null,
      "outputs": []
    },
    {
      "cell_type": "code",
      "source": [
        "#Define function to train the network\n",
        "def train_network(model,optimizer,loss_function,num_epochs, batch_size,X_train,Y_train,lambda_L1=0.0):\n",
        "    loss_across_epochs = []\n",
        "\n",
        "    for epoch in range(num_epochs):\n",
        "        train_loss= 0.0\n",
        "\n",
        "        #Explicitly start model training\n",
        "        model.train()\n",
        "\n",
        "        for i in range(0,X_train.shape[0],batch_size):\n",
        "\n",
        "            #Extract train batch from X and Y\n",
        "            input_data = X_train[i:min(X_train.shape[0],i+batch_size)]\n",
        "            labels = Y_train[i:min(X_train.shape[0],i+batch_size)]\n",
        "\n",
        "            #set the gradients to zero before starting to do backpropragation\n",
        "            optimizer.zero_grad()\n",
        "\n",
        "            #Forward pass\n",
        "            output_data  = model(input_data)\n",
        "\n",
        "            #Caculate loss\n",
        "            loss = loss_function(output_data, labels)\n",
        "            L1_loss = 0\n",
        "\n",
        "            #Compute L1 penalty to be added with loss\n",
        "            for p in model.parameters():\n",
        "                L1_loss = L1_loss + p.abs().sum()\n",
        "\n",
        "            #Add L1 penalty to loss\n",
        "            loss = loss + lambda_L1 * L1_loss\n",
        "\n",
        "            #Backpropogate\n",
        "            loss.backward()\n",
        "\n",
        "            #Update weights\n",
        "            optimizer.step()\n",
        "\n",
        "            train_loss += loss.item() * input_data.size(0)\n",
        "\n",
        "        loss_across_epochs.append(train_loss/X_train.size(0))\n",
        "        if epoch%500 == 0:\n",
        "            print(\"Epoch: {} - Loss:{:.4f}\".format(epoch,\n",
        "            train_loss/X_train.size(0) ))\n",
        "\n",
        "    return(loss_across_epochs)"
      ],
      "metadata": {
        "id": "9bUhZ91LkroN"
      },
      "execution_count": null,
      "outputs": []
    },
    {
      "cell_type": "code",
      "source": [
        "#Define function for evaluating NN\n",
        "def evaluate_model(model,x_test,y_test,X_train,Y_train,loss_list):\n",
        "\n",
        "    model.eval() #Explicitly set to evaluate mode\n",
        "\n",
        "    #Predict on Train and Validation Datasets\n",
        "    y_test_prob = model(x_test)\n",
        "    y_test_pred =np.where(y_test_prob>0.5,1,0)\n",
        "    Y_train_prob = model(X_train)\n",
        "    Y_train_pred =np.where(Y_train_prob>0.5,1,0)\n",
        "\n",
        "    #Compute Training and Validation Metrics\n",
        "    print(\"\\n Model Performance -\")\n",
        "    print(\"Training Accuracy-\",round(accuracy_score(Y_train,\n",
        "    Y_train_pred),3))\n",
        "    print(\"Training Precision-\",round(precision_score\n",
        "    (Y_train,Y_train_pred),3))\n",
        "    print(\"Training Recall-\",round(recall_score(Y_train,\n",
        "    Y_train_pred),3))\n",
        "    print(\"Training ROCAUC\", round(roc_auc_score(Y_train\n",
        "                                   ,Y_train_prob.detach().\n",
        "                                   numpy()),3))\n",
        "\n",
        "    print(\"Validation Accuracy-\",round(accuracy_score(y_test,\n",
        "    y_test_pred),3))\n",
        "    print(\"Validation Precision-\",round(precision_score(y_test,\n",
        "    y_test_pred),3))\n",
        "    print(\"Validation Recall-\",round(recall_score(y_test,\n",
        "    y_test_pred),3))\n",
        "    print(\"Validation ROCAUC\", round(roc_auc_score(y_test\n",
        "                                     ,y_test_prob.detach().\n",
        "                                     numpy()),3))\n",
        "    print(\"\\n\")\n",
        "\n",
        "    #Plot the Loss curve and ROC Curve\n",
        "    plt.figure(figsize=(20,5))\n",
        "    plt.subplot(1, 2, 1)\n",
        "    plt.plot(loss_list)\n",
        "    plt.title('Loss across epochs')\n",
        "    plt.ylabel('Loss')\n",
        "    plt.xlabel('Epochs')\n",
        "\n",
        "    plt.subplot(1, 2, 2)\n",
        "\n",
        "    #Validation\n",
        "    fpr_v, tpr_v, _ = roc_curve(y_test, y_test_prob.detach().\n",
        "    numpy())\n",
        "    roc_auc_v = auc(fpr_v, tpr_v)\n",
        "\n",
        "    #Training\n",
        "    fpr_t, tpr_t, _ = roc_curve(Y_train, Y_train_prob.detach().\n",
        "    numpy())\n",
        "    roc_auc_t = auc(fpr_t, tpr_t)\n",
        "\n",
        "    plt.title('Receiver Operating Characteristic:Validation')\n",
        "    plt.plot(fpr_v, tpr_v, 'b', label = 'Validation AUC =%0.2f' % roc_auc_v)\n",
        "    plt.plot(fpr_t, tpr_t, 'r', label = 'Training AUC = %0.2f'\n",
        "    % roc_auc_t)\n",
        "    plt.legend(loc = 'lower right')\n",
        "    plt.plot([0, 1], [0, 1],'r--')\n",
        "    plt.xlim([0, 1])\n",
        "    plt.ylim([0, 1])\n",
        "    plt.ylabel('True Positive Rate')\n",
        "    plt.xlabel('False Positive Rate')\n",
        "\n",
        "    plt.show()"
      ],
      "metadata": {
        "id": "t1JtBRGzltu_"
      },
      "execution_count": null,
      "outputs": []
    },
    {
      "cell_type": "code",
      "source": [
        "#Define Neural Network\n",
        "\n",
        "class NeuralNetwork(nn.Module):\n",
        "\n",
        "    def __init__(self):\n",
        "        super().__init__()\n",
        "        tch.manual_seed(2020)\n",
        "        self.fc1 = nn.Linear(48, 96)\n",
        "        self.fc2 = nn.Linear(96, 192)\n",
        "        self.fc3 = nn.Linear(192, 384)\n",
        "        self.out = nn.Linear(384, 1)\n",
        "        self.relu = nn.ReLU()\n",
        "        self.final = nn.Sigmoid()\n",
        "\n",
        "    def forward(self, x):\n",
        "        op = self.fc1(x)\n",
        "        op = self.relu(op)\n",
        "        op = self.fc2(op)\n",
        "        op = self.relu(op)\n",
        "        op = self.fc3(op)\n",
        "        op = self.relu(op)\n",
        "        op = self.out(op)\n",
        "        y = self.final(op)\n",
        "        return y"
      ],
      "metadata": {
        "id": "Ei-8kQ6BltmK"
      },
      "execution_count": null,
      "outputs": []
    },
    {
      "cell_type": "code",
      "source": [
        "#Define training variables\n",
        "num_epochs = 500\n",
        "batch_size= 128\n",
        "loss_function = nn.BCELoss()  #Binary Crosss Entropy Loss\n",
        "\n",
        "#Hyperparameters\n",
        "weight_decay=0.0 #set to 0; no L2 Regularizer; passed into the Optimizer\n",
        "lambda_L1=0.0    #Set to 0; no L1 reg; manually added in loss(train_network)\n",
        "\n",
        "#Create a model instance\n",
        "model = NeuralNetwork()\n",
        "\n",
        "#Define optimizer\n",
        "adam_optimizer = tch.optim.Adam(model.parameters(), lr= 0.001,weight_decay=weight_decay)\n",
        "\n",
        "#Train model\n",
        "adam_loss = train_network(model,adam_optimizer,loss_function,num_epochs,batch_size,X_train,Y_train,lambda_L1=0.0)\n",
        "\n",
        "#Evaluate model\n",
        "evaluate_model(model,x_test,y_test,X_train,Y_train,adam_loss)"
      ],
      "metadata": {
        "id": "VjY_l-yYltcs"
      },
      "execution_count": null,
      "outputs": []
    }
  ]
}